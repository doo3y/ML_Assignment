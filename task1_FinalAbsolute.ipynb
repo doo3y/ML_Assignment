{
 "cells": [
  {
   "cell_type": "markdown",
   "metadata": {},
   "source": [
    "## Task 1 Comparing the performance of fine tuning and training from scratch \n",
    "\n",
    "Pretrained model selected: ResNet18"
   ]
  },
  {
   "cell_type": "code",
   "execution_count": null,
   "metadata": {},
   "outputs": [],
   "source": [
    "#!pip install -U d2l"
   ]
  },
  {
   "cell_type": "code",
   "execution_count": 1,
   "metadata": {},
   "outputs": [],
   "source": [
    "%matplotlib inline\n",
    "import os\n",
    "import torch\n",
    "import torchvision\n",
    "import torchvision.transforms as transforms\n",
    "from torch import nn\n",
    "from d2l import torch as d2l"
   ]
  },
  {
   "cell_type": "code",
   "execution_count": 2,
   "metadata": {},
   "outputs": [
    {
     "name": "stdout",
     "output_type": "stream",
     "text": [
      "Files already downloaded and verified\n",
      "Files already downloaded and verified\n"
     ]
    }
   ],
   "source": [
    "transform = transforms.Compose(\n",
    "      [transforms.ToTensor(),\n",
    "      transforms.Resize(224),\n",
    "       transforms.Normalize((0.485, 0.456, 0.406), (0.229, 0.224, 0.225))])\n",
    "\n",
    "#validation and training set\n",
    "full_dataset = torchvision.datasets.CIFAR10(root='./data', train=True,\n",
    "                                        download=True, transform=transform)\n",
    "\n",
    "#download 10000 testing dataset (train=False)\n",
    "test_dataset = torchvision.datasets.CIFAR10(root='./data', train=False,\n",
    "                                       download=True, transform=transform)\n",
    "\n",
    "num_classes = 10\n",
    "\n",
    "#split 50k dataset into train and validation\n",
    "train_size = int(0.7 * len(full_dataset))\n",
    "validation_size = len(full_dataset) - train_size\n",
    "train_dataset, validation_dataset = torch.utils.data.random_split(full_dataset, [train_size, validation_size])"
   ]
  },
  {
   "cell_type": "code",
   "execution_count": 3,
   "metadata": {},
   "outputs": [],
   "source": [
    "# If `param_group=True`, the model parameters in the output layer will be\n",
    "# updated using a learning rate ten times greater\n",
    "# ref: d2l.ai -> https://d2l.ai/chapter_computer-vision/fine-tuning.html?highlight=train_fine_tune\n",
    "def train_fine_tuning(net, learning_rate, batch_size=128, num_epochs=5,\n",
    "                      param_group=True):\n",
    "                      \n",
    "    devices = d2l.try_all_gpus()\n",
    "\n",
    "    #load training dataset\n",
    "    train_iter = torch.utils.data.DataLoader(train_dataset, batch_size=batch_size,\n",
    "                                        shuffle=True, num_workers=4)\n",
    "    #load validation dataset\n",
    "    validation_iter = torch.utils.data.DataLoader(validation_dataset, batch_size=batch_size,\n",
    "                                        shuffle=False, num_workers=4)\n",
    "    \n",
    "    #load test data set\n",
    "    test_iter = torch.utils.data.DataLoader(test_dataset, batch_size=batch_size, \n",
    "                                        shuffle=True, num_workers = 4)\n",
    "    loss = nn.CrossEntropyLoss()\n",
    "    if param_group:\n",
    "        params_1x = [param for name, param in net.named_parameters()\n",
    "             if name not in [\"fc.weight\", \"fc.bias\"]]\n",
    "        trainer = torch.optim.SGD([{'params': params_1x},\n",
    "                                   {'params': net.fc.parameters(),\n",
    "                                    'lr': learning_rate * 10}],\n",
    "                                lr=learning_rate, weight_decay=0.001)\n",
    "    else:\n",
    "        trainer = torch.optim.SGD(net.parameters(), lr=learning_rate,\n",
    "                                  weight_decay=0.001)\n",
    "    d2l.train_ch13(net, train_iter, validation_iter, loss, trainer, num_epochs,\n",
    "                   devices)\n",
    "\n",
    "    #check accuracy against test data set\n",
    "    d2l.evaluate_accuracy_gpu(net, test_iter)"
   ]
  },
  {
   "cell_type": "markdown",
   "metadata": {},
   "source": [
    "### Finetune test"
   ]
  },
  {
   "cell_type": "code",
   "execution_count": 4,
   "metadata": {},
   "outputs": [],
   "source": [
    "net = torchvision.models.resnet18(pretrained=True)\n",
    "#reshape output layer to #num classes \n",
    "net.fc = nn.Linear(net.fc.in_features, num_classes)\n",
    "nn.init.xavier_uniform_(net.fc.weight);\n",
    "train_fine_tuning(net, 5e-5)"
   ]
  },
  {
   "cell_type": "code",
   "execution_count": null,
   "metadata": {},
   "outputs": [],
   "source": [
    "net = torchvision.models.resnet18(pretrained=True)\n",
    "#reshape output layer to #num classes \n",
    "net.fc = nn.Linear(net.fc.in_features, num_classes)\n",
    "nn.init.xavier_uniform_(net.fc.weight);\n",
    "train_fine_tuning(net, 5e-1)"
   ]
  },
  {
   "cell_type": "code",
   "execution_count": null,
   "metadata": {},
   "outputs": [],
   "source": [
    "net = torchvision.models.resnet18(pretrained=True)\n",
    "#reshape output layer to #num classes \n",
    "net.fc = nn.Linear(net.fc.in_features, num_classes)\n",
    "nn.init.xavier_uniform_(net.fc.weight);\n",
    "train_fine_tuning(net, 5e-9)"
   ]
  },
  {
   "cell_type": "markdown",
   "metadata": {},
   "source": [
    "### Scratch test\n",
    "\n",
    "pretrained=False"
   ]
  },
  {
   "cell_type": "code",
   "execution_count": null,
   "metadata": {},
   "outputs": [],
   "source": [
    "net = torchvision.models.resnet18(pretrained=False)\n",
    "#reshape output layer to #num classes \n",
    "net.fc = nn.Linear(net.fc.in_features, num_classes)\n",
    "nn.init.xavier_uniform_(net.fc.weight);\n",
    "train_fine_tuning(net, 5e-5, param_group=False)"
   ]
  },
  {
   "cell_type": "code",
   "execution_count": null,
   "metadata": {},
   "outputs": [],
   "source": [
    "net = torchvision.models.resnet18(pretrained=False)\n",
    "#reshape output layer to #num classes \n",
    "net.fc = nn.Linear(net.fc.in_features, num_classes)\n",
    "nn.init.xavier_uniform_(net.fc.weight);\n",
    "train_fine_tuning(net, 5e-1, param_group=False)"
   ]
  },
  {
   "cell_type": "code",
   "execution_count": null,
   "metadata": {},
   "outputs": [],
   "source": [
    "net = torchvision.models.resnet18(pretrained=False)\n",
    "#reshape output layer to #num classes \n",
    "net.fc = nn.Linear(net.fc.in_features, num_classes)\n",
    "nn.init.xavier_uniform_(net.fc.weight);\n",
    "train_fine_tuning(net, 5e-9, param_group=False)"
   ]
  }
 ],
 "metadata": {
  "interpreter": {
   "hash": "24b84aa856d02eba4f1d740a86d1277f9b9d70d741bb29aa1cd0f90f4af7a648"
  },
  "kernelspec": {
   "display_name": "Python 3.8.13 ('d2l')",
   "language": "python",
   "name": "python3"
  },
  "language_info": {
   "codemirror_mode": {
    "name": "ipython",
    "version": 3
   },
   "file_extension": ".py",
   "mimetype": "text/x-python",
   "name": "python",
   "nbconvert_exporter": "python",
   "pygments_lexer": "ipython3",
   "version": "3.8.13"
  },
  "orig_nbformat": 4
 },
 "nbformat": 4,
 "nbformat_minor": 2
}
