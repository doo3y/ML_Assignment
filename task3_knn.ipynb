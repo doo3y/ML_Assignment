{
  "cells": [
    {
      "cell_type": "code",
      "source": [
        "!pip install -U d2l"
      ],
      "metadata": {
        "id": "xPujlQcDVpLq"
      },
      "execution_count": null,
      "outputs": []
    },
    {
      "cell_type": "code",
      "source": [
        "!pip install skorch"
      ],
      "metadata": {
        "id": "kTjku-7TaVL2"
      },
      "execution_count": null,
      "outputs": []
    },
    {
      "cell_type": "code",
      "execution_count": 1,
      "metadata": {
        "id": "UtRx8-SERvmM"
      },
      "outputs": [],
      "source": [
        "%matplotlib inline\n",
        "import os\n",
        "import torch\n",
        "import torchvision\n",
        "import torchvision.transforms as transforms\n",
        "import torch.nn.functional as F\n",
        "from torch import nn\n",
        "from torchsummary import summary\n",
        "from d2l import torch as d2l\n",
        "import numpy as np\n",
        "from tensorflow import keras\n",
        "from sklearn.neighbors import KNeighborsClassifier\n",
        "from sklearn.metrics import accuracy_score\n",
        "from skorch import NeuralNetClassifier"
      ]
    },
    {
      "cell_type": "code",
      "source": [
        "def initialize_model(model_name, num_classes=10, use_pretrained=True):\n",
        "    # Initialize these variables which will be set in this if statement. Each of these\n",
        "    #   variables is model specific.\n",
        "    model_ft = None\n",
        "\n",
        "    if model_name == \"resnet\":\n",
        "        \"\"\" Resnet18\n",
        "        \"\"\"\n",
        "        model_ft = torchvision.models.resnet18(pretrained=use_pretrained)\n",
        "        num_ftrs = model_ft.fc.in_features\n",
        "        model_ft.fc = nn.Linear(num_ftrs, num_classes)\n",
        "        nn.init.xavier_uniform_(model_ft.fc.weight);\n",
        "\n",
        "    else:\n",
        "        print(\"Invalid model name, exiting...\")\n",
        "        exit()\n",
        "\n",
        "    return model_ft"
      ],
      "metadata": {
        "id": "JFBGflCDV2Tv"
      },
      "execution_count": 2,
      "outputs": []
    },
    {
      "cell_type": "markdown",
      "source": [
        "# KNN on original input"
      ],
      "metadata": {
        "id": "B8eiMh0dr9B2"
      }
    },
    {
      "cell_type": "code",
      "execution_count": null,
      "metadata": {
        "id": "omomG2PORvmN"
      },
      "outputs": [],
      "source": [
        "#ref : https://towardsdatascience.com/multiclass-classification-using-k-nearest-neighbours-ca5281a9ef76\n",
        "\n",
        "(x_train, y_train), (x_test, y_test) = keras.datasets.cifar10.load_data()\n",
        "\n",
        "knn = KNeighborsClassifier()\n",
        "\n",
        "#convert to 2d\n",
        "x_train = np.reshape(x_train,(x_train.shape[0],-1))\n",
        "x_test = np.reshape(x_test,(x_test.shape[0],-1))\n",
        "\n",
        "knn.fit(x_train, y_train.ravel())\n",
        "\n",
        "ypred = knn.predict(x_test)\n",
        "\n",
        "acc = accuracy_score(y_test, ypred)\n",
        "\n",
        "print(acc)"
      ]
    },
    {
      "cell_type": "markdown",
      "source": [
        "# KNN on last layer"
      ],
      "metadata": {
        "id": "HivIbBm8VLnb"
      }
    },
    {
      "cell_type": "code",
      "source": [
        "#softmax\n",
        "#ref : implementation from tutorial 7 answer by Harrison\n",
        "# https://www.youtube.com/watch?v=NVcJhMtRErE&list=PLyd8fQKbk5ej_lNdyAKI5aS_4hm-FhrrF&index=8\n",
        "class NewModel(nn.Module):\n",
        "    def __init__(self, pretrained_model, num_layers):\n",
        "        super(NewModel, self).__init__()\n",
        "        self.pretrained = pretrained_model\n",
        "        self.flatten = nn.Flatten()\n",
        "        #self.output = output_model\n",
        "        #ref : https://forums.fast.ai/t/pytorch-best-way-to-get-at-intermediate-layers-in-vgg-and-resnet/5707\n",
        "        self.features = nn.Sequential(*list(self.pretrained.children())[:num_layers])\n",
        "\n",
        "    def forward(self, x):\n",
        "        return self.flatten.forward(self.features(x))\n",
        "        #return self.forward(out)\n",
        "        #return out"
      ],
      "metadata": {
        "id": "G6RLS_HWVLR0"
      },
      "execution_count": 3,
      "outputs": []
    },
    {
      "cell_type": "code",
      "source": [
        "(x_train, y_train), (x_test, y_test) = keras.datasets.cifar10.load_data()\n",
        "\n",
        "x_train = x_train.astype(np.float32)\n",
        "\n",
        "x_train, y_train, x_test, y_test = map(\n",
        "    torch.tensor, (x_train, y_train, x_test, y_test)\n",
        ")\n",
        "\n",
        "resnet = initialize_model('resnet')\n",
        "\n",
        "x_train = x_train.permute(0, 3, 1, 2)\n",
        "\n",
        "model = NewModel(resnet, 8)\n",
        "out = model(x_train)\n",
        "#print(out.shape)\n",
        "print(y_train.type)\n",
        "knn = KNeighborsClassifier(n_neighbors=5,algorithm='kd_tree')\n",
        "knn.fit(out, y_train)\n",
        "\n",
        "#knn = KNeighborsClassifier\n",
        "\n",
        "#knn.fit(out, y_train)\n",
        "\n",
        "#x_train /= 255.0\n",
        "\n",
        "#x_train = x_train.permute(0, 3, 1, 2)\n",
        "\n",
        "#x_train /= 255.0\n",
        "\n",
        "#x_train.shape\n",
        "\n",
        "#model(x_train)\n"
      ],
      "metadata": {
        "id": "fHRoe9arWLRr"
      },
      "execution_count": null,
      "outputs": []
    }
  ],
  "metadata": {
    "interpreter": {
      "hash": "e35c5856cff72d20e6e0e19445c0d45b03888a7b19367444be448131dd51e693"
    },
    "kernelspec": {
      "display_name": "Python 3.9.10 ('ML')",
      "language": "python",
      "name": "python3"
    },
    "language_info": {
      "codemirror_mode": {
        "name": "ipython",
        "version": 3
      },
      "file_extension": ".py",
      "mimetype": "text/x-python",
      "name": "python",
      "nbconvert_exporter": "python",
      "pygments_lexer": "ipython3",
      "version": "3.9.10"
    },
    "orig_nbformat": 4,
    "colab": {
      "name": "task3_knn.ipynb",
      "provenance": [],
      "machine_shape": "hm"
    },
    "accelerator": "GPU"
  },
  "nbformat": 4,
  "nbformat_minor": 0
}