{
  "cells": [
    {
      "cell_type": "code",
      "execution_count": 1,
      "metadata": {
        "id": "17oKWtio0edX"
      },
      "outputs": [],
      "source": [
        "from sklearn import svm\n",
        "import numpy as np\n",
        "from tensorflow import keras\n",
        "from sklearn.metrics import accuracy_score\n",
        "from sklearn.multiclass import OneVsOneClassifier\n",
        "from sklearn.svm import LinearSVC\n"
      ]
    },
    {
      "cell_type": "code",
      "execution_count": null,
      "metadata": {
        "id": "iV3GtN940edZ"
      },
      "outputs": [],
      "source": [
        "#ref : https://towardsdatascience.com/multiclass-classification-using-k-nearest-neighbours-ca5281a9ef76\n",
        "\n",
        "(x_train, y_train), (x_test, y_test) = keras.datasets.cifar10.load_data()\n",
        "\n",
        "#clf = svm.SVC()\n",
        "\n",
        "\n",
        "#convert to 2d\n",
        "x_train = np.reshape(x_train,(x_train.shape[0],-1))\n",
        "x_test = np.reshape(x_test,(x_test.shape[0],-1))\n",
        "\n",
        "clf = svm.SVC(decision_function_shape='ovo')\n",
        "clf.fit(x_train, y_train.ravel())\n",
        "\n",
        "#clf.fit(x_train, y_train.ravel())\n",
        "\n",
        "#ypred = clf.predict(x_test)\n",
        "\n",
        "ypred = clf.predict(x_test)\n",
        "\n",
        "accuracy = accuracy_score(y_test, ypred)\n",
        "\n",
        "print(accuracy)"
      ]
    }
  ],
  "metadata": {
    "accelerator": "GPU",
    "colab": {
      "machine_shape": "hm",
      "name": "task3_svm.ipynb",
      "provenance": []
    },
    "kernelspec": {
      "display_name": "Python 3",
      "name": "python3"
    },
    "language_info": {
      "name": "python",
      "version": "3.9.10"
    },
    "orig_nbformat": 4
  },
  "nbformat": 4,
  "nbformat_minor": 0
}
